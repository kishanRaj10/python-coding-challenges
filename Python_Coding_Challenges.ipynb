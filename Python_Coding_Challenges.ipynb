{
  "nbformat": 4,
  "nbformat_minor": 0,
  "metadata": {
    "colab": {
      "name": "Python Coding Challenges.ipynb",
      "provenance": [],
      "authorship_tag": "ABX9TyNRVVGjtk2TAUXE0K0YMaaw",
      "include_colab_link": true
    },
    "kernelspec": {
      "name": "python3",
      "display_name": "Python 3"
    },
    "language_info": {
      "name": "python"
    }
  },
  "cells": [
    {
      "cell_type": "markdown",
      "metadata": {
        "id": "view-in-github",
        "colab_type": "text"
      },
      "source": [
        "<a href=\"https://colab.research.google.com/github/kishanRaj10/python-coding-challenges/blob/main/Python_Coding_Challenges.ipynb\" target=\"_parent\"><img src=\"https://colab.research.google.com/assets/colab-badge.svg\" alt=\"Open In Colab\"/></a>"
      ]
    },
    {
      "cell_type": "markdown",
      "metadata": {
        "id": "erNXwlSUVcRb"
      },
      "source": [
        "##1. Large Power\n",
        "For the first code challenge, we are going to create a method that tests whether the result of taking the power of one number to another number provides an answer which is greater than 5000. We will use a conditional statement to return True if the result is greater than 5000 or return False if it is not. "
      ]
    },
    {
      "cell_type": "code",
      "metadata": {
        "colab": {
          "base_uri": "https://localhost:8080/"
        },
        "id": "MTpfI4ZEWbpe",
        "outputId": "689d4c47-cc0c-4a7f-b51f-0e999fef5559"
      },
      "source": [
        "def large_power(base,exponent):\n",
        "  if  base ** exponent > 5000:\n",
        "    return True\n",
        "  else:\n",
        "    return False\n",
        "large_power(1,3)"
      ],
      "execution_count": 16,
      "outputs": [
        {
          "output_type": "execute_result",
          "data": {
            "text/plain": [
              "False"
            ]
          },
          "metadata": {
            "tags": []
          },
          "execution_count": 16
        }
      ]
    },
    {
      "cell_type": "markdown",
      "metadata": {
        "id": "71On24GNVtHA"
      },
      "source": [
        "##2. Over Budget\n",
        "Let’s say we are trying to save some money and we are watching our budget. We need to make sure that the result of our spending is less than the total amount we have allocated for each of the categories. Our function will accept a parameter called budget which describes our spending limit. The next four parameters describe what we are spending our money on. We need to sum all of our spendings and compare it to the budget. If we have gone over budget, we will return True. Otherwise we return False."
      ]
    },
    {
      "cell_type": "code",
      "metadata": {
        "colab": {
          "base_uri": "https://localhost:8080/"
        },
        "id": "cPt5fgQ6WmQN",
        "outputId": "e9f60737-6ed8-423c-9934-cbbb66f757d6"
      },
      "source": [
        "def over_budget(budget,food_bill, electricity_bill, internet_bill,rent):\n",
        "  if(budget<food_bill+ electricity_bill+ internet_bill+rent):\n",
        "    return True\n",
        "  else:\n",
        "    return False\n",
        "\n",
        "over_budget(100,20,20,30,63)"
      ],
      "execution_count": 17,
      "outputs": [
        {
          "output_type": "execute_result",
          "data": {
            "text/plain": [
              "True"
            ]
          },
          "metadata": {
            "tags": []
          },
          "execution_count": 17
        }
      ]
    },
    {
      "cell_type": "markdown",
      "metadata": {
        "id": "BGf6smNWV4Lq"
      },
      "source": [
        "##3. Twice As Large\n",
        "In this challenge, we will determine if one number is twice as large as another number. To do this, we will compare the first number with two times the second number. "
      ]
    },
    {
      "cell_type": "code",
      "metadata": {
        "colab": {
          "base_uri": "https://localhost:8080/"
        },
        "id": "9getY54ZTlBH",
        "outputId": "480187d4-9dc3-4d25-9732-7cd827f02722"
      },
      "source": [
        "def compare(num1,num2):\n",
        "  if(num1>2*num2):\n",
        "    return True\n",
        "  else:\n",
        "    return False\n",
        "\n",
        "compare(2,5)"
      ],
      "execution_count": 15,
      "outputs": [
        {
          "output_type": "execute_result",
          "data": {
            "text/plain": [
              "False"
            ]
          },
          "metadata": {
            "tags": []
          },
          "execution_count": 15
        }
      ]
    },
    {
      "cell_type": "markdown",
      "metadata": {
        "id": "AofPD42UV-e4"
      },
      "source": [
        "##4. Divisible By Ten\n",
        "To make things a bit more challenging, we are going to create a function that determines whether or not a number is divisible by ten. A number is divisible by ten if the remainder of the number divided by 10 is 0. "
      ]
    },
    {
      "cell_type": "code",
      "metadata": {
        "colab": {
          "base_uri": "https://localhost:8080/"
        },
        "id": "2dtfoXZ2UG9y",
        "outputId": "9d774d64-4773-40cf-bea9-82de22f4a059"
      },
      "source": [
        "def divisible_by_10(num):\n",
        "  if(num%10==0):\n",
        "    return True\n",
        "  else:\n",
        "    return False\n",
        "divisible_by_10(45)"
      ],
      "execution_count": 10,
      "outputs": [
        {
          "output_type": "execute_result",
          "data": {
            "text/plain": [
              "False"
            ]
          },
          "metadata": {
            "tags": []
          },
          "execution_count": 10
        }
      ]
    },
    {
      "cell_type": "markdown",
      "metadata": {
        "id": "N4rNKeNQWGuy"
      },
      "source": [
        "##5. Not Sum To Ten\n",
        "Finally, we are going to check if the summation of two inputs does not equal ten. Our function will accept two inputs and add them together. If the two numbers added together are not equal to ten, then we will return True, otherwise, we will return False."
      ]
    },
    {
      "cell_type": "code",
      "metadata": {
        "colab": {
          "base_uri": "https://localhost:8080/"
        },
        "id": "M20QnghIUvhh",
        "outputId": "858713b0-41b0-4a6e-c91b-7cba6b63886f"
      },
      "source": [
        "def sum_not_equal_to_10(num1,num2):\n",
        "  if((num1+num2)!=10):\n",
        "    return True\n",
        "  else:\n",
        "    return False\n",
        "\n",
        "sum_not_equal_to_10(7,6)"
      ],
      "execution_count": 11,
      "outputs": [
        {
          "output_type": "execute_result",
          "data": {
            "text/plain": [
              "True"
            ]
          },
          "metadata": {
            "tags": []
          },
          "execution_count": 11
        }
      ]
    },
    {
      "cell_type": "code",
      "metadata": {
        "id": "Qrm-lCTiVXt0"
      },
      "source": [
        ""
      ],
      "execution_count": null,
      "outputs": []
    }
  ]
}